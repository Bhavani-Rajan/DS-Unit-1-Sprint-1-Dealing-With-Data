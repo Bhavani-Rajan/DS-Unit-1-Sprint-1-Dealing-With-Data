{
  "nbformat": 4,
  "nbformat_minor": 0,
  "metadata": {
    "colab": {
      "name": "Practice assignment 1",
      "version": "0.3.2",
      "provenance": [],
      "collapsed_sections": [],
      "include_colab_link": true
    },
    "kernelspec": {
      "name": "python3",
      "display_name": "Python 3"
    }
  },
  "cells": [
    {
      "cell_type": "markdown",
      "metadata": {
        "id": "view-in-github",
        "colab_type": "text"
      },
      "source": [
        "<a href=\"https://colab.research.google.com/github/Bhavani-Rajan/DS-Unit-1-Sprint-1-Dealing-With-Data/blob/master/Practice_assignment_1.ipynb\" target=\"_parent\"><img src=\"https://colab.research.google.com/assets/colab-badge.svg\" alt=\"Open In Colab\"/></a>"
      ]
    },
    {
      "cell_type": "markdown",
      "metadata": {
        "id": "8_hgI7LFwLJC",
        "colab_type": "text"
      },
      "source": [
        "This coding challenge will walk you through the basics of Python 3 and Pandas library. \n",
        "\n",
        "Repl.it uses automatic unit tests to determine the correctness of your answer. On the left hand side you see the IDE and the console output windows. You execute your code by pressing the RUN button - you can do this as many times as you like. \n",
        "\n",
        "When you're ready, move on to the NEXT button to check your answers against the unit tests and submit your work for grading. Please make sure to submit your work (even if incomplete) before 8:45 PST so we can take attendance. Have fun!\n",
        "\n",
        "\n",
        "Task 1: \n",
        "Your first task is to import the Pandas library, as we must install libraries (also called packages or modules) that support the functionality we need (in this case loading datasets in various formats). Remember the \"iconic trio\"?\n",
        "\n",
        "Good detailed resource here: https://www.digitalocean.com/community/tutorials/how-to-import-modules-in-python-3\n",
        "\n",
        "\n",
        "Task 2:\n",
        "The second task is to load different file types for further processing and print out the first 5 rows. You will soon find that in data science, your datasets will come in various shapes and forms. Very frequently we use the .CSV (comma-separated values) format, however there are many others. \n",
        "\n",
        "Now let's test out loading and displaying a few different types in data. Load these three datasets and display the first five rows for each.\n",
        "\n",
        "Hint: https://pandas.pydata.org/pandas-docs/stable/generated/pandas.read_csv.html\n",
        "\n",
        "Dataset 1: \n",
        "https://raw.githubusercontent.com/pierretd/datasets-1/master/BlackFriday.csv\n",
        "\n",
        "Dataset 2: \n",
        "https://raw.githubusercontent.com/pierretd/datasets-1/master/PeopleInSpaceNow.json\n",
        "\n",
        "Dataset 3: \n",
        "https://raw.githubusercontent.com/pierretd/datasets-1/master/FastFmProfiles.tsv\n",
        "\n",
        "\n",
        "Stretch Goals: \n",
        "Load the Dataset 1 into a colab notebook and answer the following questions. When you are finished, add a link to your Colab notebook to the top of the code challenge as a comment.\n",
        "\n",
        "1) Clean the data set and drop the Null/NaN values. Rename  Product_Category_1-3 columns with an actual Product. \n",
        "\n",
        "2) How many unique user_ids does the data set contain?\n",
        "\n",
        "3) How many unique age brackets are in the dataset. Which Age bracket has the most entries? Which has the least?\n",
        "\n",
        "4) Transform the Gender categorical variable into a numerical variable. Then transform that numerical value into a Boolean.\n",
        "\n",
        "5)What is the average Occupation score? What is the Standard Deviation? What is the maximum and minimum value?\n",
        "\n",
        "7) Group Age by Gender and print out a cross tab with age as the y axis\n",
        "\n",
        "\n",
        "Super Stretch Goals: \n",
        "Build a linear regression model to predict the purchase amount given the other features in the data set with scikit learn. Try to get the best accuracy score using this metric: https://scikit-learn.org/stable/modules/generated/sklearn.metrics.accuracy_score.html"
      ]
    },
    {
      "cell_type": "code",
      "metadata": {
        "id": "kUVD4vVUwNlY",
        "colab_type": "code",
        "colab": {}
      },
      "source": [
        "# Task 1 - Pandas Library Import here: \n",
        "##Your Code Here\n"
      ],
      "execution_count": 0,
      "outputs": []
    },
    {
      "cell_type": "code",
      "metadata": {
        "id": "ORkD2PMxwSn5",
        "colab_type": "code",
        "colab": {}
      },
      "source": [
        "# Task 2 - Load three datasets and display 5 rows of data for each:\n",
        "##Your Code Here"
      ],
      "execution_count": 0,
      "outputs": []
    },
    {
      "cell_type": "code",
      "metadata": {
        "id": "9hY1fsG8yJwO",
        "colab_type": "code",
        "colab": {}
      },
      "source": [
        "#Stretch Goal\n",
        "##Your Code Here"
      ],
      "execution_count": 0,
      "outputs": []
    },
    {
      "cell_type": "code",
      "metadata": {
        "id": "Ug4iRVr_yPsJ",
        "colab_type": "code",
        "colab": {}
      },
      "source": [
        "#Super Stretch Goal\n",
        "##Your Code Here"
      ],
      "execution_count": 0,
      "outputs": []
    }
  ]
}